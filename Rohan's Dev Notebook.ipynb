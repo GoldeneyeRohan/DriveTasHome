{
 "cells": [
  {
   "cell_type": "code",
   "execution_count": 6,
   "metadata": {},
   "outputs": [],
   "source": [
    "import numpy as np\n",
    "import networkx as nx\n",
    "from annealed_penguins.utils import *"
   ]
  },
  {
   "cell_type": "code",
   "execution_count": 40,
   "metadata": {},
   "outputs": [],
   "source": [
    "input_file = \"inputs/100_50.in\"\n",
    "data = read_file(input_file)\n",
    "n_locations = int(data[0][0])\n",
    "n_homes = int(data[1][0])\n",
    "location_names = data[2]\n",
    "home_names = data[3]\n",
    "starting_location = data[4][0]\n",
    "arr_names = np.array(location_names, dtype=str)\n",
    "adjacency = np.array(data[5:])\n",
    "adjacency[adjacency == \"x\"] = \"0\"\n",
    "adjacency = adjacency.astype(float)\n",
    "\n",
    "graph = nx.from_numpy_matrix(adjacency)\n",
    "\n",
    "homes = [np.argwhere(arr_names == home)[0][0] for home in home_names ]\n"
   ]
  },
  {
   "cell_type": "code",
   "execution_count": 41,
   "metadata": {},
   "outputs": [
    {
     "data": {
      "text/plain": [
       "[21,\n",
       " 10,\n",
       " 22,\n",
       " 19,\n",
       " 17,\n",
       " 12,\n",
       " 6,\n",
       " 14,\n",
       " 18,\n",
       " 16,\n",
       " 13,\n",
       " 24,\n",
       " 9,\n",
       " 4,\n",
       " 2,\n",
       " 8,\n",
       " 3,\n",
       " 20,\n",
       " 0,\n",
       " 7,\n",
       " 1,\n",
       " 23,\n",
       " 15,\n",
       " 11,\n",
       " 5]"
      ]
     },
     "execution_count": 41,
     "metadata": {},
     "output_type": "execute_result"
    }
   ],
   "source": [
    "np.shape(homes"
   ]
  },
  {
   "cell_type": "code",
   "execution_count": null,
   "metadata": {},
   "outputs": [],
   "source": []
  }
 ],
 "metadata": {
  "kernelspec": {
   "display_name": "Python 3",
   "language": "python",
   "name": "python3"
  },
  "language_info": {
   "codemirror_mode": {
    "name": "ipython",
    "version": 3
   },
   "file_extension": ".py",
   "mimetype": "text/x-python",
   "name": "python",
   "nbconvert_exporter": "python",
   "pygments_lexer": "ipython3",
   "version": "3.6.4"
  }
 },
 "nbformat": 4,
 "nbformat_minor": 2
}
