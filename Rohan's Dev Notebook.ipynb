{
 "cells": [
  {
   "cell_type": "code",
   "execution_count": 1,
   "metadata": {},
   "outputs": [],
   "source": [
    "import numpy as np\n",
    "import networkx as nx\n",
    "from annealed_penguins.problem_parser import *"
   ]
  },
  {
   "cell_type": "code",
   "execution_count": 2,
   "metadata": {},
   "outputs": [],
   "source": [
    "input_file = \"inputs/100_50.in\"\n",
    "problem = input_to_graph(input_file)"
   ]
  },
  {
   "cell_type": "code",
   "execution_count": 3,
   "metadata": {},
   "outputs": [
    {
     "data": {
      "text/plain": [
       "{'G': <networkx.classes.graph.Graph at 0x25ca184fd30>,\n",
       " 'homes': [21,\n",
       "  10,\n",
       "  22,\n",
       "  19,\n",
       "  17,\n",
       "  12,\n",
       "  6,\n",
       "  14,\n",
       "  18,\n",
       "  16,\n",
       "  13,\n",
       "  24,\n",
       "  9,\n",
       "  4,\n",
       "  2,\n",
       "  8,\n",
       "  3,\n",
       "  20,\n",
       "  0,\n",
       "  7,\n",
       "  1,\n",
       "  23,\n",
       "  15,\n",
       "  11,\n",
       "  5],\n",
       " 'location_names': ['Marbleiron',\n",
       "  'Courtcastle',\n",
       "  'Ironriver',\n",
       "  'Courtwall',\n",
       "  'Morwald',\n",
       "  'Clearnesse',\n",
       "  'Valhaven',\n",
       "  'Buttermead',\n",
       "  'Violetley',\n",
       "  'Westvale',\n",
       "  'Woodice',\n",
       "  'Esterfall',\n",
       "  'Eriwall',\n",
       "  'Goldwyvern',\n",
       "  'Newby',\n",
       "  'Foxvale',\n",
       "  'Morwall',\n",
       "  'Oakmere',\n",
       "  'Foxhaven',\n",
       "  'Freyview',\n",
       "  'Ironshore',\n",
       "  'Oldmoor',\n",
       "  'Dellwyn',\n",
       "  'Butterbush',\n",
       "  'Corbank',\n",
       "  'Esterash',\n",
       "  'Stonefair',\n",
       "  'Westerlight',\n",
       "  'Clearland',\n",
       "  'Bushgate',\n",
       "  'Brightmere',\n",
       "  'Stoneglass',\n",
       "  'Wildemarsh',\n",
       "  'Wellmage',\n",
       "  'Snowshore',\n",
       "  'Irondeer',\n",
       "  'Lightmere',\n",
       "  'Southwheat',\n",
       "  'Westmill',\n",
       "  'Lochmage',\n",
       "  'Shoreburn',\n",
       "  'Erilyn',\n",
       "  'Eastcastle',\n",
       "  'Rosemill',\n",
       "  'Wolflea',\n",
       "  'Greenshore',\n",
       "  'Bluedell',\n",
       "  'Newley',\n",
       "  'Fairsage',\n",
       "  'Greyice'],\n",
       " 's': 'Clearnesse'}"
      ]
     },
     "execution_count": 3,
     "metadata": {},
     "output_type": "execute_result"
    }
   ],
   "source": [
    "problem"
   ]
  },
  {
   "cell_type": "code",
   "execution_count": null,
   "metadata": {},
   "outputs": [],
   "source": []
  }
 ],
 "metadata": {
  "kernelspec": {
   "display_name": "Python 3",
   "language": "python",
   "name": "python3"
  },
  "language_info": {
   "codemirror_mode": {
    "name": "ipython",
    "version": 3
   },
   "file_extension": ".py",
   "mimetype": "text/x-python",
   "name": "python",
   "nbconvert_exporter": "python",
   "pygments_lexer": "ipython3",
   "version": "3.6.4"
  }
 },
 "nbformat": 4,
 "nbformat_minor": 2
}
